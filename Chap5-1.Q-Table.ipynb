{
 "cells": [
  {
   "cell_type": "code",
   "execution_count": 1,
   "metadata": {
    "collapsed": true
   },
   "outputs": [],
   "source": [
    "import gym\n",
    "import numpy as np\n",
    "import random\n",
    "import matplotlib.pyplot as plt\n",
    "%matplotlib inline"
   ]
  },
  {
   "cell_type": "markdown",
   "metadata": {},
   "source": [
    "# 환경 불러오기"
   ]
  },
  {
   "cell_type": "code",
   "execution_count": 2,
   "metadata": {},
   "outputs": [
    {
     "name": "stderr",
     "output_type": "stream",
     "text": [
      "[2017-09-04 02:44:20,207] Making new env: FrozenLake-v0\n"
     ]
    }
   ],
   "source": [
    "env = gym.make('FrozenLake-v0')"
   ]
  },
  {
   "cell_type": "code",
   "execution_count": 3,
   "metadata": {
    "collapsed": true
   },
   "outputs": [],
   "source": [
    "#테이블을 모두 0으로 초기화한다\n",
    "Q = np.zeros([env.observation_space.n,env.action_space.n])\n",
    "#학습 매개변수를 설정한다\n",
    "lr = .85\n",
    "y = .99\n",
    "num_episodes = 2000\n",
    "#전체 보상과 각 에피소드의 단계를 저정할 리스트를 생성한다\n",
    "#jList = []\n",
    "rList = []\n",
    "for i in range(num_episodes):\n",
    "    #환경을 리셋하고 첫번째 새로운 관찰을 얻는다\n",
    "    s = env.reset()\n",
    "    rAll = 0\n",
    "    d = False\n",
    "    j = 0\n",
    "    #Q-테이블 학습 알고리즘\n",
    "    while j < 99:\n",
    "        j+=1\n",
    "        #Q-테이블로부터 (노이즈와 함께) 탐욕스럽게 선택함으로써 액션을 선택한다\n",
    "        a = np.argmax(Q[s,:] + np.random.randn(1,env.action_space.n)*(1./(i+1)))\n",
    "        #환경으로부터 새로운 상태와 보상을 얻는다\n",
    "        s1,r,d,_ = env.step(a)\n",
    "        #새로운 지식을 통해 Q-테이블을 업데이트한다\n",
    "        Q[s,a] = Q[s,a] + lr*(r + y*np.max(Q[s1,:]) - Q[s,a])\n",
    "        rAll += r\n",
    "        s = s1\n",
    "        if d == True:\n",
    "            break\n",
    "    #jList.append(j)\n",
    "    rList.append(rAll)"
   ]
  },
  {
   "cell_type": "code",
   "execution_count": 4,
   "metadata": {},
   "outputs": [
    {
     "name": "stdout",
     "output_type": "stream",
     "text": [
      "Score over time: 0.324\n"
     ]
    }
   ],
   "source": [
    "print(\"Score over time: \" +  str(sum(rList)/num_episodes))"
   ]
  },
  {
   "cell_type": "code",
   "execution_count": 5,
   "metadata": {},
   "outputs": [
    {
     "name": "stdout",
     "output_type": "stream",
     "text": [
      "Final Q-Table Values \n",
      "[[  6.13367454e-03   1.40393625e-01   5.04724681e-03   1.21177336e-02]\n",
      " [  1.22397831e-03   3.86955509e-04   1.32317073e-04   1.31470651e-01]\n",
      " [  1.19058192e-03   2.25117156e-03   1.02849194e-02   1.34036576e-01]\n",
      " [  2.91041211e-04   3.97851629e-04   1.88418974e-03   1.12323468e-01]\n",
      " [  2.12022830e-01   4.02596664e-04   2.62534683e-03   9.52571072e-05]\n",
      " [  0.00000000e+00   0.00000000e+00   0.00000000e+00   0.00000000e+00]\n",
      " [  1.10822110e-04   9.40874347e-06   1.52705174e-02   9.80056220e-07]\n",
      " [  0.00000000e+00   0.00000000e+00   0.00000000e+00   0.00000000e+00]\n",
      " [  3.82764703e-04   5.26436276e-05   5.74540534e-04   4.69255399e-01]\n",
      " [  7.05416208e-05   6.14194645e-01   1.29779601e-03   2.65724257e-03]\n",
      " [  6.37674107e-01   4.83045507e-05   1.60422098e-04   1.22231246e-03]\n",
      " [  0.00000000e+00   0.00000000e+00   0.00000000e+00   0.00000000e+00]\n",
      " [  0.00000000e+00   0.00000000e+00   0.00000000e+00   0.00000000e+00]\n",
      " [  2.48883160e-04   0.00000000e+00   8.68622041e-01   5.81976900e-04]\n",
      " [  0.00000000e+00   0.00000000e+00   0.00000000e+00   8.70109156e-01]\n",
      " [  0.00000000e+00   0.00000000e+00   0.00000000e+00   0.00000000e+00]]\n"
     ]
    }
   ],
   "source": [
    "print(\"Final Q-Table Values \")\n",
    "print(Q)"
   ]
  },
  {
   "cell_type": "code",
   "execution_count": null,
   "metadata": {
    "collapsed": true
   },
   "outputs": [],
   "source": []
  },
  {
   "cell_type": "code",
   "execution_count": null,
   "metadata": {
    "collapsed": true
   },
   "outputs": [],
   "source": []
  }
 ],
 "metadata": {
  "kernelspec": {
   "display_name": "Python 3",
   "language": "python",
   "name": "python3"
  },
  "language_info": {
   "codemirror_mode": {
    "name": "ipython",
    "version": 3
   },
   "file_extension": ".py",
   "mimetype": "text/x-python",
   "name": "python",
   "nbconvert_exporter": "python",
   "pygments_lexer": "ipython3",
   "version": "3.5.2"
  }
 },
 "nbformat": 4,
 "nbformat_minor": 2
}
