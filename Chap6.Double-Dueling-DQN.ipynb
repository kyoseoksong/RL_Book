{
 "cells": [
  {
   "cell_type": "code",
   "execution_count": 4,
   "metadata": {
    "collapsed": true
   },
   "outputs": [],
   "source": [
    "from __future__ import division\n",
    "\n",
    "import gym\n",
    "import numpy as np\n",
    "import random\n",
    "import tensorflow as tf\n",
    "import tensorflow.contrib.slim as slim\n",
    "import matplotlib.pyplot as plt\n",
    "import scipy.misc\n",
    "import os\n",
    "%matplotlib inline"
   ]
  },
  {
   "attachments": {},
   "cell_type": "markdown",
   "metadata": {},
   "source": [
    "# 게임 환경 로딩\n",
    "\n",
    "그리드의 크기는 자유롭게 조절하기 바랍니다. 크기를 작게 하면 우리의 DQN 에이전트가 보다 쉽게 작업을 수행할 것이며, 반대로 크게 하면 어려움을 배가시킬 것입니다. \n",
    "\n",
    "(역자주 : gridworld.py 라는 파일이 동일한 경로 내에 존재해야 합니다)"
   ]
  },
  {
   "cell_type": "code",
   "execution_count": 7,
   "metadata": {},
   "outputs": [
    {
     "data": {
      "image/png": "[encoded data removed]",
      "text/plain": [
       "<matplotlib.figure.Figure at 0x113ba6cf8>"
      ]
     },
     "metadata": {},
     "output_type": "display_data"
    }
   ],
   "source": [
    "from gridworld import gameEnv\n",
    "\n",
    "env = gameEnv(partial=False,size=5)"
   ]
  },
  {
   "attachments": {},
   "cell_type": "markdown",
   "metadata": {},
   "source": [
    "이 이미지는 우리의 간단한 게임 내의 시작 환경의 예시입니다. \n",
    "\n",
    "에이전트는 파란색 사각형을 위, 아래, 왼쪽, 오른쪽으로 이동시킵니다. 목표는 빨간색 사각형 (-1의 보상)을 피하여 녹색 사각형 (+1의 보상)까지 도달하는 것입니다. 세가지 블록의 위치는 매 에피소드마다 랜덤하게 변하게 됩니다.  "
   ]
  },
  {
   "cell_type": "markdown",
   "metadata": {},
   "source": [
    "# 네트워크 구현"
   ]
  },
  {
   "cell_type": "code",
   "execution_count": 9,
   "metadata": {
    "collapsed": true
   },
   "outputs": [],
   "source": [
    "class Qnetwork():\n",
    "    def __init__(self,h_size):\n",
    "        #네트워크는 게임으로부터 하나의 프레임을 받아 이를 배열로 만든다 (flattening).\n",
    "        #배열의 크기를 재조절해주고 4개의 컨벌루션 레이어를 거치면서 처리해 준다.\n",
    "        self.scalarInput =  tf.placeholder(shape=[None,21168],dtype=tf.float32)\n",
    "        self.imageIn = tf.reshape(self.scalarInput,shape=[-1,84,84,3])\n",
    "        self.conv1 = slim.conv2d( \\\n",
    "            inputs=self.imageIn,num_outputs=32,kernel_size=[8,8],stride=[4,4],padding='VALID', biases_initializer=None)\n",
    "        self.conv2 = slim.conv2d( \\\n",
    "            inputs=self.conv1,num_outputs=64,kernel_size=[4,4],stride=[2,2],padding='VALID', biases_initializer=None)\n",
    "        self.conv3 = slim.conv2d( \\\n",
    "            inputs=self.conv2,num_outputs=64,kernel_size=[3,3],stride=[1,1],padding='VALID', biases_initializer=None)\n",
    "        self.conv4 = slim.conv2d( \\\n",
    "            inputs=self.conv3,num_outputs=h_size,kernel_size=[7,7],stride=[1,1],padding='VALID', biases_initializer=None)\n",
    "        \n",
    "        #마지막 컨벌루션 레이어로부터의 출력값을 취한 후, 이를 어드밴티지 스트림과 값 스트림으로 분리한다. \n",
    "        self.streamAC,self.streamVC = tf.split(self.conv4,2,3)\n",
    "        self.streamA = slim.flatten(self.streamAC)\n",
    "        self.streamV = slim.flatten(self.streamVC)\n",
    "        self.AW = tf.Variable(tf.random_normal([h_size//2,env.actions]))\n",
    "        self.VW = tf.Variable(tf.random_normal([h_size//2,1]))\n",
    "        self.Advantage = tf.matmul(self.streamA,self.AW)\n",
    "        self.Value = tf.matmul(self.streamV,self.VW)\n",
    "        \n",
    "        #최종 Q-값을 얻기 위해 어드밴티지 스트림과 값 스트림을 조합해 준다. \n",
    "        self.Qout = self.Value + tf.subtract(self.Advantage,tf.reduce_mean(self.Advantage,axis=1,keep_dims=True))\n",
    "        self.predict = tf.argmax(self.Qout,1)\n",
    "        \n",
    "        #타겟 Q 값과 예측 Q 값 간의 제곱합 차를 취함으로써 비용을 구한다.\n",
    "        self.targetQ = tf.placeholder(shape=[None],dtype=tf.float32)\n",
    "        self.actions = tf.placeholder(shape=[None],dtype=tf.int32)\n",
    "        self.actions_onehot = tf.one_hot(self.actions,env.actions,dtype=tf.float32)\n",
    "        \n",
    "        self.Q = tf.reduce_sum(tf.multiply(self.Qout, self.actions_onehot), axis=1)\n",
    "        \n",
    "        self.td_error = tf.square(self.targetQ - self.Q)\n",
    "        self.loss = tf.reduce_mean(self.td_error)\n",
    "        self.trainer = tf.train.AdamOptimizer(learning_rate=0.0001)\n",
    "        self.updateModel = self.trainer.minimize(self.loss)"
   ]
  },
  {
   "attachments": {},
   "cell_type": "markdown",
   "metadata": {},
   "source": [
    "# 경험 리플레이\n",
    "\n",
    "아래 클래스는 경험과 샘플을 저장하고 랜덤하게 네트워크를 학습시킵니다. "
   ]
  },
  {
   "cell_type": "code",
   "execution_count": 10,
   "metadata": {
    "collapsed": true
   },
   "outputs": [],
   "source": [
    "class experience_buffer():\n",
    "    def __init__(self, buffer_size = 50000):\n",
    "        self.buffer = []\n",
    "        self.buffer_size = buffer_size\n",
    "    \n",
    "    def add(self,experience):\n",
    "        if len(self.buffer) + len(experience) >= self.buffer_size:\n",
    "            self.buffer[0:(len(experience)+len(self.buffer))-self.buffer_size] = []\n",
    "        self.buffer.extend(experience)\n",
    "            \n",
    "    def sample(self,size):\n",
    "        return np.reshape(np.array(random.sample(self.buffer,size)),[size,5])"
   ]
  },
  {
   "cell_type": "markdown",
   "metadata": {},
   "source": [
    "아래는 게임의 프레임의 사이즈를 조절해 주는 간단한 함수입니다."
   ]
  },
  {
   "cell_type": "code",
   "execution_count": 11,
   "metadata": {
    "collapsed": true
   },
   "outputs": [],
   "source": [
    "def processState(states):\n",
    "    return np.reshape(states,[21168])"
   ]
  },
  {
   "attachments": {},
   "cell_type": "markdown",
   "metadata": {},
   "source": [
    "아래 함수들은 1차 네트워크의 파라미터와 함께 타겟 네트워크의 파라미터를 업데이트하게 해줍니다.  "
   ]
  },
  {
   "cell_type": "code",
   "execution_count": 12,
   "metadata": {
    "collapsed": true
   },
   "outputs": [],
   "source": [
    "def updateTargetGraph(tfVars,tau):\n",
    "    total_vars = len(tfVars)\n",
    "    op_holder = []\n",
    "    for idx,var in enumerate(tfVars[0:total_vars//2]):\n",
    "        op_holder.append(tfVars[idx+total_vars//2].assign((var.value()*tau) + ((1-tau)*tfVars[idx+total_vars//2].value())))\n",
    "    return op_holder\n",
    "\n",
    "def updateTarget(op_holder,sess):\n",
    "    for op in op_holder:\n",
    "        sess.run(op)"
   ]
  },
  {
   "attachments": {},
   "cell_type": "markdown",
   "metadata": {},
   "source": [
    "# 네트워크 학습\n",
    "\n",
    "모든 학습 파라미터를 설정합니다. "
   ]
  },
  {
   "cell_type": "code",
   "execution_count": 13,
   "metadata": {
    "collapsed": true
   },
   "outputs": [],
   "source": [
    "batch_size = 32 #각 학습 단계에서 사용할 경험의 수\n",
    "update_freq = 4 #학습 단계 기준의 업데이트 주기 \n",
    "y = .99 #타겟 Q-값에 대한 할인 계수\n",
    "startE = 1 #시작 시 랜덤 액션의 가능성\n",
    "endE = 0.1 #종료 시 랜덤 액션의 가능성\n",
    "anneling_steps = 10000. #startE에서 endE로 줄어드는데 필요한 학습 단계 수\n",
    "num_episodes = 10000 #네트워크를 학습시키기 위한 게임 환경 에피소드의 수\n",
    "pre_train_steps = 10000 #학습 시작 전 랜덤 액션의 단계 수\n",
    "max_epLength = 50 #허용되는 최대 에피소드 길이\n",
    "load_model = False #저장된 모델을 로딩할 지 여부\n",
    "path = \"./dqn\" #모델을 저장할 경로\n",
    "h_size = 512 #어드밴티지 스트림과 값 스트림으로 분리되기 전의 마지막 컨벌루션 레이어의 크기\n",
    "tau = 0.001 #타겟 네트워크를 제1네트워크로 업데이트시켜 가는 비율"
   ]
  },
  {
   "cell_type": "code",
   "execution_count": 14,
   "metadata": {},
   "outputs": [
    {
     "name": "stdout",
     "output_type": "stream",
     "text": [
      "Saved Model\n",
      "500 0.7 1\n",
      "1000 1.6 1\n",
      "1500 3.0 1\n",
      "2000 2.3 1\n",
      "2500 1.5 1\n",
      "3000 2.8 1\n",
      "3500 2.3 1\n",
      "4000 2.1 1\n",
      "4500 2.7 1\n",
      "5000 0.7 1\n",
      "5500 1.7 1\n",
      "6000 2.3 1\n",
      "6500 1.3 1\n",
      "7000 2.2 1\n",
      "7500 3.0 1\n",
      "8000 2.5 1\n",
      "8500 3.7 1\n",
      "9000 1.9 1\n",
      "9500 2.3 1\n",
      "10000 1.3 1\n",
      "10500 3.3 0.9549999999999828\n",
      "11000 3.5 0.9099999999999655\n",
      "11500 1.7 0.8649999999999483\n",
      "12000 2.6 0.819999999999931\n",
      "12500 1.5 0.7749999999999138\n",
      "13000 3.0 0.7299999999998965\n",
      "13500 3.2 0.6849999999998793\n",
      "14000 0.8 0.639999999999862\n",
      "14500 1.6 0.5949999999998448\n",
      "15000 1.8 0.5499999999998275\n",
      "15500 1.5 0.5049999999998103\n",
      "16000 1.7 0.4599999999998177\n",
      "16500 1.4 0.41499999999982823\n",
      "17000 1.5 0.36999999999983874\n",
      "17500 1.3 0.32499999999984924\n",
      "18000 0.7 0.27999999999985975\n",
      "18500 0.4 0.23499999999986562\n",
      "19000 1.9 0.18999999999986225\n",
      "19500 1.3 0.14499999999985888\n",
      "20000 1.3 0.09999999999985551\n",
      "20500 0.2 0.09999999999985551\n",
      "21000 -0.3 0.09999999999985551\n",
      "21500 0.9 0.09999999999985551\n",
      "22000 0.8 0.09999999999985551\n",
      "22500 0.5 0.09999999999985551\n",
      "23000 1.7 0.09999999999985551\n",
      "23500 0.7 0.09999999999985551\n",
      "24000 0.0 0.09999999999985551\n",
      "24500 0.7 0.09999999999985551\n",
      "25000 0.6 0.09999999999985551\n",
      "25500 0.4 0.09999999999985551\n",
      "26000 1.0 0.09999999999985551\n",
      "26500 1.8 0.09999999999985551\n",
      "27000 1.4 0.09999999999985551\n",
      "27500 1.1 0.09999999999985551\n",
      "28000 1.3 0.09999999999985551\n",
      "28500 0.7 0.09999999999985551\n",
      "29000 0.3 0.09999999999985551\n",
      "29500 1.2 0.09999999999985551\n",
      "30000 1.3 0.09999999999985551\n",
      "30500 0.8 0.09999999999985551\n",
      "31000 0.6 0.09999999999985551\n",
      "31500 0.1 0.09999999999985551\n",
      "32000 1.2 0.09999999999985551\n",
      "32500 1.4 0.09999999999985551\n",
      "33000 1.0 0.09999999999985551\n",
      "33500 1.5 0.09999999999985551\n",
      "34000 0.9 0.09999999999985551\n",
      "34500 0.5 0.09999999999985551\n",
      "35000 1.1 0.09999999999985551\n",
      "35500 0.8 0.09999999999985551\n",
      "36000 1.2 0.09999999999985551\n",
      "36500 1.6 0.09999999999985551\n",
      "37000 1.7 0.09999999999985551\n",
      "37500 1.2 0.09999999999985551\n",
      "38000 0.8 0.09999999999985551\n",
      "38500 0.9 0.09999999999985551\n",
      "39000 2.1 0.09999999999985551\n",
      "39500 1.5 0.09999999999985551\n",
      "40000 1.8 0.09999999999985551\n",
      "40500 1.7 0.09999999999985551\n",
      "41000 1.6 0.09999999999985551\n",
      "41500 1.3 0.09999999999985551\n",
      "42000 1.2 0.09999999999985551\n",
      "42500 1.6 0.09999999999985551\n",
      "43000 0.7 0.09999999999985551\n",
      "43500 0.9 0.09999999999985551\n",
      "44000 1.8 0.09999999999985551\n",
      "44500 0.9 0.09999999999985551\n",
      "45000 1.1 0.09999999999985551\n",
      "45500 2.2 0.09999999999985551\n",
      "46000 2.3 0.09999999999985551\n",
      "46500 0.6 0.09999999999985551\n",
      "47000 1.2 0.09999999999985551\n",
      "47500 1.1 0.09999999999985551\n",
      "48000 1.7 0.09999999999985551\n",
      "48500 1.4 0.09999999999985551\n",
      "49000 0.9 0.09999999999985551\n",
      "49500 0.5 0.09999999999985551\n",
      "50000 1.4 0.09999999999985551\n",
      "Saved Model\n",
      "50500 1.8 0.09999999999985551\n",
      "51000 1.7 0.09999999999985551\n",
      "51500 2.3 0.09999999999985551\n",
      "52000 1.9 0.09999999999985551\n",
      "52500 1.0 0.09999999999985551\n",
      "53000 2.0 0.09999999999985551\n",
      "53500 1.4 0.09999999999985551\n",
      "54000 3.0 0.09999999999985551\n",
      "54500 2.5 0.09999999999985551\n",
      "55000 2.7 0.09999999999985551\n",
      "55500 1.1 0.09999999999985551\n",
      "56000 1.7 0.09999999999985551\n",
      "56500 1.2 0.09999999999985551\n",
      "57000 1.0 0.09999999999985551\n",
      "57500 3.7 0.09999999999985551\n",
      "58000 2.1 0.09999999999985551\n",
      "58500 2.3 0.09999999999985551\n",
      "59000 3.1 0.09999999999985551\n",
      "59500 2.4 0.09999999999985551\n",
      "60000 1.0 0.09999999999985551\n",
      "60500 2.1 0.09999999999985551\n",
      "61000 2.2 0.09999999999985551\n",
      "61500 1.7 0.09999999999985551\n",
      "62000 3.2 0.09999999999985551\n",
      "62500 2.3 0.09999999999985551\n",
      "63000 1.9 0.09999999999985551\n",
      "63500 1.3 0.09999999999985551\n",
      "64000 4.4 0.09999999999985551\n",
      "64500 1.7 0.09999999999985551\n",
      "65000 2.3 0.09999999999985551\n",
      "65500 3.9 0.09999999999985551\n",
      "66000 2.6 0.09999999999985551\n",
      "66500 2.6 0.09999999999985551\n",
      "67000 2.4 0.09999999999985551\n",
      "67500 1.5 0.09999999999985551\n",
      "68000 1.9 0.09999999999985551\n",
      "68500 2.1 0.09999999999985551\n",
      "69000 3.3 0.09999999999985551\n",
      "69500 2.1 0.09999999999985551\n",
      "70000 3.9 0.09999999999985551\n",
      "70500 3.0 0.09999999999985551\n",
      "71000 2.5 0.09999999999985551\n",
      "71500 3.0 0.09999999999985551\n",
      "72000 2.2 0.09999999999985551\n",
      "72500 4.4 0.09999999999985551\n",
      "73000 5.5 0.09999999999985551\n",
      "73500 4.0 0.09999999999985551\n",
      "74000 2.4 0.09999999999985551\n",
      "74500 3.4 0.09999999999985551\n",
      "75000 3.8 0.09999999999985551\n",
      "75500 2.8 0.09999999999985551\n",
      "76000 5.6 0.09999999999985551\n",
      "76500 2.7 0.09999999999985551\n",
      "77000 4.3 0.09999999999985551\n",
      "77500 5.0 0.09999999999985551\n",
      "78000 6.5 0.09999999999985551\n",
      "78500 2.5 0.09999999999985551\n",
      "79000 4.8 0.09999999999985551\n",
      "79500 2.9 0.09999999999985551\n",
      "80000 4.7 0.09999999999985551\n",
      "80500 4.0 0.09999999999985551\n",
      "81000 5.7 0.09999999999985551\n",
      "81500 5.9 0.09999999999985551\n",
      "82000 6.2 0.09999999999985551\n",
      "82500 4.0 0.09999999999985551\n",
      "83000 2.8 0.09999999999985551\n",
      "83500 4.1 0.09999999999985551\n",
      "84000 9.2 0.09999999999985551\n",
      "84500 7.5 0.09999999999985551\n",
      "85000 7.4 0.09999999999985551\n",
      "85500 6.5 0.09999999999985551\n",
      "86000 4.6 0.09999999999985551\n",
      "86500 4.8 0.09999999999985551\n",
      "87000 6.1 0.09999999999985551\n",
      "87500 8.1 0.09999999999985551\n",
      "88000 8.8 0.09999999999985551\n",
      "88500 9.3 0.09999999999985551\n",
      "89000 9.6 0.09999999999985551\n",
      "89500 7.8 0.09999999999985551\n",
      "90000 11.0 0.09999999999985551\n",
      "90500 6.7 0.09999999999985551\n",
      "91000 6.6 0.09999999999985551\n",
      "91500 11.2 0.09999999999985551\n",
      "92000 10.7 0.09999999999985551\n",
      "92500 12.7 0.09999999999985551\n",
      "93000 11.7 0.09999999999985551\n",
      "93500 10.5 0.09999999999985551\n",
      "94000 10.2 0.09999999999985551\n",
      "94500 8.2 0.09999999999985551\n",
      "95000 12.6 0.09999999999985551\n",
      "95500 13.2 0.09999999999985551\n",
      "96000 13.5 0.09999999999985551\n",
      "96500 12.8 0.09999999999985551\n",
      "97000 14.0 0.09999999999985551\n",
      "97500 12.3 0.09999999999985551\n",
      "98000 12.6 0.09999999999985551\n",
      "98500 12.7 0.09999999999985551\n",
      "99000 13.5 0.09999999999985551\n",
      "99500 14.3 0.09999999999985551\n",
      "100000 13.9 0.09999999999985551\n",
      "Saved Model\n",
      "100500 11.9 0.09999999999985551\n",
      "101000 15.5 0.09999999999985551\n",
      "101500 15.5 0.09999999999985551\n",
      "102000 13.2 0.09999999999985551\n",
      "102500 18.1 0.09999999999985551\n",
      "103000 14.9 0.09999999999985551\n",
      "103500 15.3 0.09999999999985551\n",
      "104000 14.9 0.09999999999985551\n"
     ]
    },
    {
     "ename": "KeyboardInterrupt",
     "evalue": "",
     "output_type": "error",
     "traceback": [
      "\u001b[0;31m---------------------------------------------------------------------------\u001b[0m",
      "\u001b[0;31mKeyboardInterrupt\u001b[0m                         Traceback (most recent call last)",
      "\u001b[0;32m<ipython-input-14-35f5b427e33d>\u001b[0m in \u001b[0;36m<module>\u001b[0;34m()\u001b[0m\n\u001b[1;32m     67\u001b[0m                     \u001b[0mtargetQ\u001b[0m \u001b[0;34m=\u001b[0m \u001b[0mtrainBatch\u001b[0m\u001b[0;34m[\u001b[0m\u001b[0;34m:\u001b[0m\u001b[0;34m,\u001b[0m\u001b[0;36m2\u001b[0m\u001b[0;34m]\u001b[0m \u001b[0;34m+\u001b[0m \u001b[0;34m(\u001b[0m\u001b[0my\u001b[0m\u001b[0;34m*\u001b[0m\u001b[0mdoubleQ\u001b[0m \u001b[0;34m*\u001b[0m \u001b[0mend_multiplier\u001b[0m\u001b[0;34m)\u001b[0m\u001b[0;34m\u001b[0m\u001b[0m\n\u001b[1;32m     68\u001b[0m                     \u001b[0;31m#타겟 값을 이용해 네트워크를 업데이트\u001b[0m\u001b[0;34m\u001b[0m\u001b[0;34m\u001b[0m\u001b[0m\n\u001b[0;32m---> 69\u001b[0;31m                     \u001b[0m_\u001b[0m \u001b[0;34m=\u001b[0m \u001b[0msess\u001b[0m\u001b[0;34m.\u001b[0m\u001b[0mrun\u001b[0m\u001b[0;34m(\u001b[0m\u001b[0mmainQN\u001b[0m\u001b[0;34m.\u001b[0m\u001b[0mupdateModel\u001b[0m\u001b[0;34m,\u001b[0m                         \u001b[0mfeed_dict\u001b[0m\u001b[0;34m=\u001b[0m\u001b[0;34m{\u001b[0m\u001b[0mmainQN\u001b[0m\u001b[0;34m.\u001b[0m\u001b[0mscalarInput\u001b[0m\u001b[0;34m:\u001b[0m\u001b[0mnp\u001b[0m\u001b[0;34m.\u001b[0m\u001b[0mvstack\u001b[0m\u001b[0;34m(\u001b[0m\u001b[0mtrainBatch\u001b[0m\u001b[0;34m[\u001b[0m\u001b[0;34m:\u001b[0m\u001b[0;34m,\u001b[0m\u001b[0;36m0\u001b[0m\u001b[0;34m]\u001b[0m\u001b[0;34m)\u001b[0m\u001b[0;34m,\u001b[0m\u001b[0mmainQN\u001b[0m\u001b[0;34m.\u001b[0m\u001b[0mtargetQ\u001b[0m\u001b[0;34m:\u001b[0m\u001b[0mtargetQ\u001b[0m\u001b[0;34m,\u001b[0m \u001b[0mmainQN\u001b[0m\u001b[0;34m.\u001b[0m\u001b[0mactions\u001b[0m\u001b[0;34m:\u001b[0m\u001b[0mtrainBatch\u001b[0m\u001b[0;34m[\u001b[0m\u001b[0;34m:\u001b[0m\u001b[0;34m,\u001b[0m\u001b[0;36m1\u001b[0m\u001b[0;34m]\u001b[0m\u001b[0;34m}\u001b[0m\u001b[0;34m)\u001b[0m\u001b[0;34m\u001b[0m\u001b[0m\n\u001b[0m\u001b[1;32m     70\u001b[0m \u001b[0;34m\u001b[0m\u001b[0m\n\u001b[1;32m     71\u001b[0m                     \u001b[0mupdateTarget\u001b[0m\u001b[0;34m(\u001b[0m\u001b[0mtargetOps\u001b[0m\u001b[0;34m,\u001b[0m\u001b[0msess\u001b[0m\u001b[0;34m)\u001b[0m \u001b[0;31m#타겟 네트워크가 제1네트워크와 동일하도록 설정\u001b[0m\u001b[0;34m\u001b[0m\u001b[0m\n",
      "\u001b[0;32m~/dev/tf_python3/lib/python3.5/site-packages/tensorflow/python/client/session.py\u001b[0m in \u001b[0;36mrun\u001b[0;34m(self, fetches, feed_dict, options, run_metadata)\u001b[0m\n\u001b[1;32m    893\u001b[0m     \u001b[0;32mtry\u001b[0m\u001b[0;34m:\u001b[0m\u001b[0;34m\u001b[0m\u001b[0m\n\u001b[1;32m    894\u001b[0m       result = self._run(None, fetches, feed_dict, options_ptr,\n\u001b[0;32m--> 895\u001b[0;31m                          run_metadata_ptr)\n\u001b[0m\u001b[1;32m    896\u001b[0m       \u001b[0;32mif\u001b[0m \u001b[0mrun_metadata\u001b[0m\u001b[0;34m:\u001b[0m\u001b[0;34m\u001b[0m\u001b[0m\n\u001b[1;32m    897\u001b[0m         \u001b[0mproto_data\u001b[0m \u001b[0;34m=\u001b[0m \u001b[0mtf_session\u001b[0m\u001b[0;34m.\u001b[0m\u001b[0mTF_GetBuffer\u001b[0m\u001b[0;34m(\u001b[0m\u001b[0mrun_metadata_ptr\u001b[0m\u001b[0;34m)\u001b[0m\u001b[0;34m\u001b[0m\u001b[0m\n",
      "\u001b[0;32m~/dev/tf_python3/lib/python3.5/site-packages/tensorflow/python/client/session.py\u001b[0m in \u001b[0;36m_run\u001b[0;34m(self, handle, fetches, feed_dict, options, run_metadata)\u001b[0m\n\u001b[1;32m   1122\u001b[0m     \u001b[0;32mif\u001b[0m \u001b[0mfinal_fetches\u001b[0m \u001b[0;32mor\u001b[0m \u001b[0mfinal_targets\u001b[0m \u001b[0;32mor\u001b[0m \u001b[0;34m(\u001b[0m\u001b[0mhandle\u001b[0m \u001b[0;32mand\u001b[0m \u001b[0mfeed_dict_tensor\u001b[0m\u001b[0;34m)\u001b[0m\u001b[0;34m:\u001b[0m\u001b[0;34m\u001b[0m\u001b[0m\n\u001b[1;32m   1123\u001b[0m       results = self._do_run(handle, final_targets, final_fetches,\n\u001b[0;32m-> 1124\u001b[0;31m                              feed_dict_tensor, options, run_metadata)\n\u001b[0m\u001b[1;32m   1125\u001b[0m     \u001b[0;32melse\u001b[0m\u001b[0;34m:\u001b[0m\u001b[0;34m\u001b[0m\u001b[0m\n\u001b[1;32m   1126\u001b[0m       \u001b[0mresults\u001b[0m \u001b[0;34m=\u001b[0m \u001b[0;34m[\u001b[0m\u001b[0;34m]\u001b[0m\u001b[0;34m\u001b[0m\u001b[0m\n",
      "\u001b[0;32m~/dev/tf_python3/lib/python3.5/site-packages/tensorflow/python/client/session.py\u001b[0m in \u001b[0;36m_do_run\u001b[0;34m(self, handle, target_list, fetch_list, feed_dict, options, run_metadata)\u001b[0m\n\u001b[1;32m   1319\u001b[0m     \u001b[0;32mif\u001b[0m \u001b[0mhandle\u001b[0m \u001b[0;32mis\u001b[0m \u001b[0;32mNone\u001b[0m\u001b[0;34m:\u001b[0m\u001b[0;34m\u001b[0m\u001b[0m\n\u001b[1;32m   1320\u001b[0m       return self._do_call(_run_fn, self._session, feeds, fetches, targets,\n\u001b[0;32m-> 1321\u001b[0;31m                            options, run_metadata)\n\u001b[0m\u001b[1;32m   1322\u001b[0m     \u001b[0;32melse\u001b[0m\u001b[0;34m:\u001b[0m\u001b[0;34m\u001b[0m\u001b[0m\n\u001b[1;32m   1323\u001b[0m       \u001b[0;32mreturn\u001b[0m \u001b[0mself\u001b[0m\u001b[0;34m.\u001b[0m\u001b[0m_do_call\u001b[0m\u001b[0;34m(\u001b[0m\u001b[0m_prun_fn\u001b[0m\u001b[0;34m,\u001b[0m \u001b[0mself\u001b[0m\u001b[0;34m.\u001b[0m\u001b[0m_session\u001b[0m\u001b[0;34m,\u001b[0m \u001b[0mhandle\u001b[0m\u001b[0;34m,\u001b[0m \u001b[0mfeeds\u001b[0m\u001b[0;34m,\u001b[0m \u001b[0mfetches\u001b[0m\u001b[0;34m)\u001b[0m\u001b[0;34m\u001b[0m\u001b[0m\n",
      "\u001b[0;32m~/dev/tf_python3/lib/python3.5/site-packages/tensorflow/python/client/session.py\u001b[0m in \u001b[0;36m_do_call\u001b[0;34m(self, fn, *args)\u001b[0m\n\u001b[1;32m   1325\u001b[0m   \u001b[0;32mdef\u001b[0m \u001b[0m_do_call\u001b[0m\u001b[0;34m(\u001b[0m\u001b[0mself\u001b[0m\u001b[0;34m,\u001b[0m \u001b[0mfn\u001b[0m\u001b[0;34m,\u001b[0m \u001b[0;34m*\u001b[0m\u001b[0margs\u001b[0m\u001b[0;34m)\u001b[0m\u001b[0;34m:\u001b[0m\u001b[0;34m\u001b[0m\u001b[0m\n\u001b[1;32m   1326\u001b[0m     \u001b[0;32mtry\u001b[0m\u001b[0;34m:\u001b[0m\u001b[0;34m\u001b[0m\u001b[0m\n\u001b[0;32m-> 1327\u001b[0;31m       \u001b[0;32mreturn\u001b[0m \u001b[0mfn\u001b[0m\u001b[0;34m(\u001b[0m\u001b[0;34m*\u001b[0m\u001b[0margs\u001b[0m\u001b[0;34m)\u001b[0m\u001b[0;34m\u001b[0m\u001b[0m\n\u001b[0m\u001b[1;32m   1328\u001b[0m     \u001b[0;32mexcept\u001b[0m \u001b[0merrors\u001b[0m\u001b[0;34m.\u001b[0m\u001b[0mOpError\u001b[0m \u001b[0;32mas\u001b[0m \u001b[0me\u001b[0m\u001b[0;34m:\u001b[0m\u001b[0;34m\u001b[0m\u001b[0m\n\u001b[1;32m   1329\u001b[0m       \u001b[0mmessage\u001b[0m \u001b[0;34m=\u001b[0m \u001b[0mcompat\u001b[0m\u001b[0;34m.\u001b[0m\u001b[0mas_text\u001b[0m\u001b[0;34m(\u001b[0m\u001b[0me\u001b[0m\u001b[0;34m.\u001b[0m\u001b[0mmessage\u001b[0m\u001b[0;34m)\u001b[0m\u001b[0;34m\u001b[0m\u001b[0m\n",
      "\u001b[0;32m~/dev/tf_python3/lib/python3.5/site-packages/tensorflow/python/client/session.py\u001b[0m in \u001b[0;36m_run_fn\u001b[0;34m(session, feed_dict, fetch_list, target_list, options, run_metadata)\u001b[0m\n\u001b[1;32m   1304\u001b[0m           return tf_session.TF_Run(session, options,\n\u001b[1;32m   1305\u001b[0m                                    \u001b[0mfeed_dict\u001b[0m\u001b[0;34m,\u001b[0m \u001b[0mfetch_list\u001b[0m\u001b[0;34m,\u001b[0m \u001b[0mtarget_list\u001b[0m\u001b[0;34m,\u001b[0m\u001b[0;34m\u001b[0m\u001b[0m\n\u001b[0;32m-> 1306\u001b[0;31m                                    status, run_metadata)\n\u001b[0m\u001b[1;32m   1307\u001b[0m \u001b[0;34m\u001b[0m\u001b[0m\n\u001b[1;32m   1308\u001b[0m     \u001b[0;32mdef\u001b[0m \u001b[0m_prun_fn\u001b[0m\u001b[0;34m(\u001b[0m\u001b[0msession\u001b[0m\u001b[0;34m,\u001b[0m \u001b[0mhandle\u001b[0m\u001b[0;34m,\u001b[0m \u001b[0mfeed_dict\u001b[0m\u001b[0;34m,\u001b[0m \u001b[0mfetch_list\u001b[0m\u001b[0;34m)\u001b[0m\u001b[0;34m:\u001b[0m\u001b[0;34m\u001b[0m\u001b[0m\n",
      "\u001b[0;31mKeyboardInterrupt\u001b[0m: "
     ]
    }
   ],
   "source": [
    "tf.reset_default_graph()\n",
    "mainQN = Qnetwork(h_size)\n",
    "targetQN = Qnetwork(h_size)\n",
    "\n",
    "init = tf.global_variables_initializer()\n",
    "\n",
    "saver = tf.train.Saver()\n",
    "\n",
    "trainables = tf.trainable_variables()\n",
    "\n",
    "targetOps = updateTargetGraph(trainables,tau)\n",
    "\n",
    "myBuffer = experience_buffer()\n",
    "\n",
    "#랜덤 액션이 감소하는 비율을 설정 \n",
    "e = startE\n",
    "stepDrop = (startE - endE)/anneling_steps\n",
    "\n",
    "#전체 보상과 에피소드 별 단계 수를 저장할 리스트를 생성\n",
    "jList = []\n",
    "rList = []\n",
    "total_steps = 0\n",
    "\n",
    "#모델이 저장될 경로 생성\n",
    "if not os.path.exists(path):\n",
    "    os.makedirs(path)\n",
    "\n",
    "with tf.Session() as sess:\n",
    "    sess.run(init)\n",
    "    if load_model == True:\n",
    "        print('Loading Model...')\n",
    "        ckpt = tf.train.get_checkpoint_state(path)\n",
    "        saver.restore(sess,ckpt.model_checkpoint_path)\n",
    "    updateTarget(targetOps,sess) #타겟 네트워크가 제1네트워크와 동일하도록 설정\n",
    "    for i in range(num_episodes):\n",
    "        episodeBuffer = experience_buffer()\n",
    "        #환경을 리셋하고 첫번째 관찰 얻기\n",
    "        s = env.reset()\n",
    "        s = processState(s)\n",
    "        d = False\n",
    "        rAll = 0\n",
    "        j = 0\n",
    "        #Q-네트워크\n",
    "        while j < max_epLength: #만약 에이전트가 블록에 도달하기 위해 200회 이상 시도하면 종료\n",
    "            j+=1\n",
    "            # Q-네트워크로부터 (e의 확률로 랜덤한 액션과 함께) 그리디하게 액션을 선택한다.\n",
    "            if np.random.rand(1) < e or total_steps < pre_train_steps:\n",
    "                a = np.random.randint(0,4)\n",
    "            else:\n",
    "                a = sess.run(mainQN.predict,feed_dict={mainQN.scalarInput:[s]})[0]\n",
    "            s1,r,d = env.step(a)\n",
    "            s1 = processState(s1)\n",
    "            total_steps += 1\n",
    "            episodeBuffer.add(np.reshape(np.array([s,a,r,s1,d]),[1,5])) #에피소드 버퍼에 경험을 저장\n",
    "            \n",
    "            if total_steps > pre_train_steps:\n",
    "                if e > endE:\n",
    "                    e -= stepDrop\n",
    "                \n",
    "                if total_steps % (update_freq) == 0:\n",
    "                    trainBatch = myBuffer.sample(batch_size) #경험에서 특정 부분을 랜덤하게 획득\n",
    "                    #타겟 Q-값에 대해 double DQN 업데이트를 수행\n",
    "                    Q1 = sess.run(mainQN.predict,feed_dict={mainQN.scalarInput:np.vstack(trainBatch[:,3])})\n",
    "                    Q2 = sess.run(targetQN.Qout,feed_dict={targetQN.scalarInput:np.vstack(trainBatch[:,3])})\n",
    "                    end_multiplier = -(trainBatch[:,4] - 1)\n",
    "                    doubleQ = Q2[range(batch_size),Q1]\n",
    "                    targetQ = trainBatch[:,2] + (y*doubleQ * end_multiplier)\n",
    "                    #타겟 값을 이용해 네트워크를 업데이트\n",
    "                    _ = sess.run(mainQN.updateModel, \\\n",
    "                        feed_dict={mainQN.scalarInput:np.vstack(trainBatch[:,0]),mainQN.targetQ:targetQ, mainQN.actions:trainBatch[:,1]})\n",
    "                    \n",
    "                    updateTarget(targetOps,sess) #타겟 네트워크가 제1네트워크와 동일하도록 설정\n",
    "            rAll += r\n",
    "            s = s1\n",
    "            \n",
    "            if d == True:\n",
    "\n",
    "                break\n",
    "        \n",
    "        myBuffer.add(episodeBuffer.buffer)\n",
    "        jList.append(j)\n",
    "        rList.append(rAll)\n",
    "        #정기적으로 모델 저장\n",
    "        if i % 1000 == 0:\n",
    "            saver.save(sess,path+'/model-'+str(i)+'.cptk')\n",
    "            print(\"Saved Model\")\n",
    "        if len(rList) % 10 == 0:\n",
    "            print(total_steps,np.mean(rList[-10:]), e)\n",
    "    saver.save(sess,path+'/model-'+str(i)+'.cptk')\n",
    "print(\"Percent of succesful episodes: \" + str(sum(rList)/num_episodes) + \"%\")"
   ]
  },
  {
   "attachments": {},
   "cell_type": "markdown",
   "metadata": {},
   "source": [
    "# 네트워크 학습 체크하기\n",
    "\n",
    "시간의 흐름에 따른 평균 보상"
   ]
  },
  {
   "cell_type": "code",
   "execution_count": 15,
   "metadata": {},
   "outputs": [
    {
     "data": {
      "text/plain": [
       "[<matplotlib.lines.Line2D at 0x14be42278>]"
      ]
     },
     "execution_count": 15,
     "metadata": {},
     "output_type": "execute_result"
    },
    {
     "data": {
      "image/png": "[encoded data removed]",
      "text/plain": [
       "<matplotlib.figure.Figure at 0x115179ac8>"
      ]
     },
     "metadata": {},
     "output_type": "display_data"
    }
   ],
   "source": [
    "rMat = np.resize(np.array(rList),[len(rList)//100,100])\n",
    "rMean = np.average(rMat,1)\n",
    "plt.plot(rMean)"
   ]
  },
  {
   "cell_type": "code",
   "execution_count": null,
   "metadata": {
    "collapsed": true
   },
   "outputs": [],
   "source": []
  }
 ],
 "metadata": {
  "kernelspec": {
   "display_name": "Python 3",
   "language": "python",
   "name": "python3"
  },
  "language_info": {
   "codemirror_mode": {
    "name": "ipython",
    "version": 3
   },
   "file_extension": ".py",
   "mimetype": "text/x-python",
   "name": "python",
   "nbconvert_exporter": "python",
   "pygments_lexer": "ipython3",
   "version": "3.5.2"
  }
 },
 "nbformat": 4,
 "nbformat_minor": 2
}
